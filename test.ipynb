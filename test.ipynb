{
 "cells": [
  {
   "cell_type": "code",
   "execution_count": 1,
   "id": "3378674c",
   "metadata": {},
   "outputs": [],
   "source": [
    "import ollama\n",
    "import gradio as gr\n",
    "from bs4 import BeautifulSoup\n",
    "import requests"
   ]
  },
  {
   "cell_type": "code",
   "execution_count": 19,
   "id": "a2edca87",
   "metadata": {},
   "outputs": [],
   "source": [
    "\n",
    "\n",
    "class Website:\n",
    "    url: str\n",
    "    title: str\n",
    "    text: str\n",
    "\n",
    "    def __init__(self, url):\n",
    "        self.url = url\n",
    "        response = requests.get(url)\n",
    "        self.body = response.content\n",
    "        soup = BeautifulSoup(self.body, 'html.parser')\n",
    "        self.title = soup.title.string if soup.title else \"No title found\"\n",
    "        for irrelevant in soup.body([\"script\", \"style\", \"img\", \"input\"]):\n",
    "            irrelevant.decompose()\n",
    "        self.text = soup.body.get_text(separator=\"\\n\", strip=True)\n",
    "\n",
    "    def get_contents(self):\n",
    "        return f\"Webpage Title:\\n{self.title}\\nWebpage Contents:\\n{self.text}\\n\\n\"\n",
    "obj=Website(\"https://vignan.ac.in/newvignan/\")"
   ]
  },
  {
   "cell_type": "code",
   "execution_count": 20,
   "id": "2eb62142",
   "metadata": {},
   "outputs": [],
   "source": [
    "\n",
    "\n",
    "system_message = \"You are an assistant that analyzes the contents of a company website landing page \\\n",
    "and creates a short brochure about the company for prospective customers, investors and recruits.\""
   ]
  },
  {
   "cell_type": "code",
   "execution_count": 15,
   "id": "1391521e",
   "metadata": {},
   "outputs": [],
   "source": [
    "def msg_llama(prompt):\n",
    "    result=ollama.chat(model=\"llama3.2\",\n",
    "                       messages=[{\"role\":\"system\",\"content\":system_message},\n",
    "                                 {\"role\":\"user\",\"content\":prompt}],stream=True)\n",
    "    res=\"\"\n",
    "    for i in result:\n",
    "        res+=i[\"message\"][\"content\"] or \"\"\n",
    "        yield res\n",
    "\n",
    "def msg_deepseek(prompt):\n",
    "    result=ollama.chat(model=\"deepseek-r1\",messages=[{\"role\":\"system\",\"content\":system_message},\n",
    "                                 {\"role\":\"user\",\"content\":prompt}],stream=True)\n",
    "    res=\"\"\n",
    "    for i in result:\n",
    "        res+=i[\"message\"][\"content\"] or \"\"\n",
    "        yield res"
   ]
  },
  {
   "cell_type": "code",
   "execution_count": 16,
   "id": "fbc32415",
   "metadata": {},
   "outputs": [],
   "source": [
    "def stream_brochure(company_name,url,model):\n",
    "    prompt=f\"Please generate a company brochure for {company_name}. Here is their landing page:\\n\"\n",
    "    prompt+=\"Use proper headings, bullet points, and bold text where appropriate.\"\n",
    "    prompt += Website(url).get_contents()\n",
    "    if model==\"llama3.2\":\n",
    "        response=msg_llama(prompt)\n",
    "    else:\n",
    "        response=msg_deepseek(prompt)\n",
    "    yield from response\n",
    "        "
   ]
  },
  {
   "cell_type": "code",
   "execution_count": null,
   "id": "7ae7814c",
   "metadata": {},
   "outputs": [
    {
     "name": "stdout",
     "output_type": "stream",
     "text": [
      "* Running on local URL:  http://127.0.0.1:7866\n",
      "* Running on public URL: https://bcc7a2347ae2603426.gradio.live\n",
      "\n",
      "This share link expires in 1 week. For free permanent hosting and GPU upgrades, run `gradio deploy` from the terminal in the working directory to deploy to Hugging Face Spaces (https://huggingface.co/spaces)\n"
     ]
    },
    {
     "data": {
      "text/html": [
       "<div><iframe src=\"https://bcc7a2347ae2603426.gradio.live\" width=\"100%\" height=\"500\" allow=\"autoplay; camera; microphone; clipboard-read; clipboard-write;\" frameborder=\"0\" allowfullscreen></iframe></div>"
      ],
      "text/plain": [
       "<IPython.core.display.HTML object>"
      ]
     },
     "metadata": {},
     "output_type": "display_data"
    },
    {
     "data": {
      "text/plain": []
     },
     "execution_count": 18,
     "metadata": {},
     "output_type": "execute_result"
    }
   ],
   "source": [
    "view = gr.Interface(\n",
    "    fn=stream_brochure,\n",
    "    inputs=[\n",
    "        gr.Textbox(label=\"Company name:\"),\n",
    "        gr.Textbox(label=\"Landing page URL including http:// or https://\"),\n",
    "        gr.Dropdown([\"llama3.2\", \"deepseek-r1\"], label=\"Select model\")],\n",
    "    outputs=[gr.Markdown(label=\"Brochure:\")],\n",
    "    flagging_mode=\"never\",\n",
    "    title=\"AI-Powered Brochure Generator\",\n",
    "    description=\"Generate a personalized marketing brochure using cutting-edge language models like LLaMA 3.2 and DeepSeek-R1. Just enter your company name and website!\"\n",
    ")\n",
    "\n",
    "view.launch(share=True)"
   ]
  },
  {
   "cell_type": "code",
   "execution_count": null,
   "id": "6130af53",
   "metadata": {},
   "outputs": [],
   "source": []
  },
  {
   "cell_type": "code",
   "execution_count": null,
   "id": "a1e93af8",
   "metadata": {},
   "outputs": [],
   "source": []
  },
  {
   "cell_type": "code",
   "execution_count": null,
   "id": "b854c72a",
   "metadata": {},
   "outputs": [],
   "source": []
  }
 ],
 "metadata": {
  "kernelspec": {
   "display_name": "llms",
   "language": "python",
   "name": "python3"
  },
  "language_info": {
   "codemirror_mode": {
    "name": "ipython",
    "version": 3
   },
   "file_extension": ".py",
   "mimetype": "text/x-python",
   "name": "python",
   "nbconvert_exporter": "python",
   "pygments_lexer": "ipython3",
   "version": "3.11.12"
  }
 },
 "nbformat": 4,
 "nbformat_minor": 5
}
